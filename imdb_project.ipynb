{
  "nbformat": 4,
  "nbformat_minor": 0,
  "metadata": {
    "kernelspec": {
      "display_name": "Python 3",
      "language": "python",
      "name": "python3"
    },
    "language_info": {
      "codemirror_mode": {
        "name": "ipython",
        "version": 3
      },
      "file_extension": ".py",
      "mimetype": "text/x-python",
      "name": "python",
      "nbconvert_exporter": "python",
      "pygments_lexer": "ipython3",
      "version": "3.7.6"
    },
    "colab": {
      "name": "imdb-project.ipynb",
      "provenance": [],
      "collapsed_sections": [],
      "include_colab_link": true
    }
  },
  "cells": [
    {
      "cell_type": "markdown",
      "metadata": {
        "id": "view-in-github",
        "colab_type": "text"
      },
      "source": [
        "<a href=\"https://colab.research.google.com/github/keshav159/IMDb-Project/blob/master/imdb_project.ipynb\" target=\"_parent\"><img src=\"https://colab.research.google.com/assets/colab-badge.svg\" alt=\"Open In Colab\"/></a>"
      ]
    },
    {
      "cell_type": "markdown",
      "metadata": {
        "id": "sTRoD_KVGkMF"
      },
      "source": [
        "# New Section"
      ]
    },
    {
      "cell_type": "markdown",
      "metadata": {
        "id": "VH40j4VNGkaw"
      },
      "source": [
        "# New Section"
      ]
    },
    {
      "cell_type": "code",
      "metadata": {
        "id": "xIlJfScAGiKr",
        "colab": {
          "base_uri": "https://localhost:8080/"
        },
        "outputId": "6f37a9f2-969b-4903-ac70-02c400052519"
      },
      "source": [
        "# Jovian Commit Essentials\n",
        "# Please retain and execute this cell without modifying the contents for `jovian.commit` to work\n",
        "!pip install jovian --upgrade -q\n",
        "import jovian\n",
        "jovian.set_project('imdb-project')\n",
        "jovian.set_colab_id('1BNlh0Rt-DalTUGKNboVjmZoZycB6-FBg')"
      ],
      "execution_count": 1,
      "outputs": [
        {
          "output_type": "stream",
          "text": [
            "\u001b[?25l\r\u001b[K     |████▊                           | 10kB 18.8MB/s eta 0:00:01\r\u001b[K     |█████████▌                      | 20kB 8.6MB/s eta 0:00:01\r\u001b[K     |██████████████▎                 | 30kB 5.9MB/s eta 0:00:01\r\u001b[K     |███████████████████             | 40kB 5.6MB/s eta 0:00:01\r\u001b[K     |███████████████████████▊        | 51kB 2.7MB/s eta 0:00:01\r\u001b[K     |████████████████████████████▌   | 61kB 3.0MB/s eta 0:00:01\r\u001b[K     |████████████████████████████████| 71kB 2.5MB/s \n",
            "\u001b[?25h  Building wheel for uuid (setup.py) ... \u001b[?25l\u001b[?25hdone\n"
          ],
          "name": "stdout"
        }
      ]
    },
    {
      "cell_type": "markdown",
      "metadata": {
        "id": "R40kCkucGiKy"
      },
      "source": [
        "# imdb-project\n",
        "\n",
        "Use the \"Run\" button to execute the code."
      ]
    },
    {
      "cell_type": "code",
      "metadata": {
        "id": "T7NeiBw9GiKz"
      },
      "source": [
        "!pip install jovian --upgrade --quiet"
      ],
      "execution_count": 2,
      "outputs": []
    },
    {
      "cell_type": "code",
      "metadata": {
        "id": "sFqRJCxvGiK0"
      },
      "source": [
        "import jovian"
      ],
      "execution_count": 3,
      "outputs": []
    },
    {
      "cell_type": "code",
      "metadata": {
        "id": "ook_RqK5GiK1",
        "colab": {
          "base_uri": "https://localhost:8080/",
          "height": 135
        },
        "outputId": "5da65112-0747-45bb-80a7-11a32e1bd06e"
      },
      "source": [
        "# Execute this to save new versions of the notebook\n",
        "jovian.commit(project=\"imdb-project\")"
      ],
      "execution_count": 4,
      "outputs": [
        {
          "output_type": "stream",
          "text": [
            "[jovian] Detected Colab notebook...\u001b[0m\n",
            "[jovian] Please enter your API key ( from https://jovian.ai/ ):\u001b[0m\n",
            "API KEY: ··········\n",
            "[jovian] Uploading colab notebook to Jovian...\u001b[0m\n",
            "[jovian] Capturing environment..\u001b[0m\n",
            "[jovian] Committed successfully! https://jovian.ai/keshavgoyal159/imdb-project\u001b[0m\n"
          ],
          "name": "stdout"
        },
        {
          "output_type": "execute_result",
          "data": {
            "application/vnd.google.colaboratory.intrinsic+json": {
              "type": "string"
            },
            "text/plain": [
              "'https://jovian.ai/keshavgoyal159/imdb-project'"
            ]
          },
          "metadata": {
            "tags": []
          },
          "execution_count": 4
        }
      ]
    },
    {
      "cell_type": "code",
      "metadata": {
        "id": "AzzPkr3QGiK2",
        "colab": {
          "base_uri": "https://localhost:8080/"
        },
        "outputId": "365d2c32-f761-4244-ee54-071503759ce3"
      },
      "source": [
        "pip install opendatasets --upgrade"
      ],
      "execution_count": 5,
      "outputs": [
        {
          "output_type": "stream",
          "text": [
            "Collecting opendatasets\n",
            "  Downloading https://files.pythonhosted.org/packages/82/07/2fab0093b3e79d5822acb47e3b3821ddd5eb194cede68d777ca6795548ed/opendatasets-0.1.13-py3-none-any.whl\n",
            "Requirement already satisfied, skipping upgrade: click in /usr/local/lib/python3.7/dist-packages (from opendatasets) (7.1.2)\n",
            "Requirement already satisfied, skipping upgrade: tqdm in /usr/local/lib/python3.7/dist-packages (from opendatasets) (4.41.1)\n",
            "Requirement already satisfied, skipping upgrade: kaggle in /usr/local/lib/python3.7/dist-packages (from opendatasets) (1.5.12)\n",
            "Requirement already satisfied, skipping upgrade: six>=1.10 in /usr/local/lib/python3.7/dist-packages (from kaggle->opendatasets) (1.15.0)\n",
            "Requirement already satisfied, skipping upgrade: python-dateutil in /usr/local/lib/python3.7/dist-packages (from kaggle->opendatasets) (2.8.1)\n",
            "Requirement already satisfied, skipping upgrade: python-slugify in /usr/local/lib/python3.7/dist-packages (from kaggle->opendatasets) (5.0.2)\n",
            "Requirement already satisfied, skipping upgrade: urllib3 in /usr/local/lib/python3.7/dist-packages (from kaggle->opendatasets) (1.24.3)\n",
            "Requirement already satisfied, skipping upgrade: requests in /usr/local/lib/python3.7/dist-packages (from kaggle->opendatasets) (2.23.0)\n",
            "Requirement already satisfied, skipping upgrade: certifi in /usr/local/lib/python3.7/dist-packages (from kaggle->opendatasets) (2020.12.5)\n",
            "Requirement already satisfied, skipping upgrade: text-unidecode>=1.3 in /usr/local/lib/python3.7/dist-packages (from python-slugify->kaggle->opendatasets) (1.3)\n",
            "Requirement already satisfied, skipping upgrade: idna<3,>=2.5 in /usr/local/lib/python3.7/dist-packages (from requests->kaggle->opendatasets) (2.10)\n",
            "Requirement already satisfied, skipping upgrade: chardet<4,>=3.0.2 in /usr/local/lib/python3.7/dist-packages (from requests->kaggle->opendatasets) (3.0.4)\n",
            "Installing collected packages: opendatasets\n",
            "Successfully installed opendatasets-0.1.13\n"
          ],
          "name": "stdout"
        }
      ]
    },
    {
      "cell_type": "code",
      "metadata": {
        "colab": {
          "base_uri": "https://localhost:8080/"
        },
        "id": "Tu65F18FebXe",
        "outputId": "76ae0a35-f99e-46fe-fd2f-08d7c998daf0"
      },
      "source": [
        "import opendatasets as od\n",
        "od.download('https://www.kaggle.com/stefanoleone992/imdb-extensive-dataset')"
      ],
      "execution_count": 6,
      "outputs": [
        {
          "output_type": "stream",
          "text": [
            "Please provide your Kaggle credentials to download this dataset. Learn more: http://bit.ly/kaggle-creds\n",
            "Your Kaggle username: keshavgoyal159\n",
            "Your Kaggle Key: ··········\n"
          ],
          "name": "stdout"
        },
        {
          "output_type": "stream",
          "text": [
            "  9%|▊         | 7.00M/82.3M [00:00<00:01, 71.4MB/s]"
          ],
          "name": "stderr"
        },
        {
          "output_type": "stream",
          "text": [
            "Downloading imdb-extensive-dataset.zip to ./imdb-extensive-dataset\n"
          ],
          "name": "stdout"
        },
        {
          "output_type": "stream",
          "text": [
            "100%|██████████| 82.3M/82.3M [00:00<00:00, 130MB/s]\n"
          ],
          "name": "stderr"
        },
        {
          "output_type": "stream",
          "text": [
            "\n"
          ],
          "name": "stdout"
        }
      ]
    },
    {
      "cell_type": "code",
      "metadata": {
        "id": "TOWKTVPCgcDz"
      },
      "source": [
        "import pandas as pd\n",
        "import numpy as np"
      ],
      "execution_count": 7,
      "outputs": []
    },
    {
      "cell_type": "markdown",
      "metadata": {
        "id": "qD9H7pLJg005"
      },
      "source": [
        "**Data Preparation and Cleaning**\n",
        "\n",
        "Load the file using Pandas\n",
        "\n",
        "Look at some information about the data & the columns\n",
        "\n",
        "Fix any missing or incorrect values"
      ]
    },
    {
      "cell_type": "code",
      "metadata": {
        "id": "gH4U4ooMeujZ"
      },
      "source": [
        "data_filename = './imdb-extensive-dataset/IMDb movies.csv'"
      ],
      "execution_count": 8,
      "outputs": []
    },
    {
      "cell_type": "code",
      "metadata": {
        "colab": {
          "base_uri": "https://localhost:8080/"
        },
        "id": "Y6Y9WIr_gTKV",
        "outputId": "8f2ccd8e-03ab-4ab9-99fd-3ab0e34da63c"
      },
      "source": [
        "df = pd.read_csv(data_filename)"
      ],
      "execution_count": 9,
      "outputs": [
        {
          "output_type": "stream",
          "text": [
            "/usr/local/lib/python3.7/dist-packages/IPython/core/interactiveshell.py:2718: DtypeWarning: Columns (3) have mixed types.Specify dtype option on import or set low_memory=False.\n",
            "  interactivity=interactivity, compiler=compiler, result=result)\n"
          ],
          "name": "stderr"
        }
      ]
    },
    {
      "cell_type": "code",
      "metadata": {
        "colab": {
          "base_uri": "https://localhost:8080/",
          "height": 1000
        },
        "id": "p4u4APcigYuK",
        "outputId": "f4c04ca7-57d2-4f3f-8a84-30498c0b91e8"
      },
      "source": [
        "df"
      ],
      "execution_count": 10,
      "outputs": [
        {
          "output_type": "execute_result",
          "data": {
            "text/html": [
              "<div>\n",
              "<style scoped>\n",
              "    .dataframe tbody tr th:only-of-type {\n",
              "        vertical-align: middle;\n",
              "    }\n",
              "\n",
              "    .dataframe tbody tr th {\n",
              "        vertical-align: top;\n",
              "    }\n",
              "\n",
              "    .dataframe thead th {\n",
              "        text-align: right;\n",
              "    }\n",
              "</style>\n",
              "<table border=\"1\" class=\"dataframe\">\n",
              "  <thead>\n",
              "    <tr style=\"text-align: right;\">\n",
              "      <th></th>\n",
              "      <th>imdb_title_id</th>\n",
              "      <th>title</th>\n",
              "      <th>original_title</th>\n",
              "      <th>year</th>\n",
              "      <th>date_published</th>\n",
              "      <th>genre</th>\n",
              "      <th>duration</th>\n",
              "      <th>country</th>\n",
              "      <th>language</th>\n",
              "      <th>director</th>\n",
              "      <th>writer</th>\n",
              "      <th>production_company</th>\n",
              "      <th>actors</th>\n",
              "      <th>description</th>\n",
              "      <th>avg_vote</th>\n",
              "      <th>votes</th>\n",
              "      <th>budget</th>\n",
              "      <th>usa_gross_income</th>\n",
              "      <th>worlwide_gross_income</th>\n",
              "      <th>metascore</th>\n",
              "      <th>reviews_from_users</th>\n",
              "      <th>reviews_from_critics</th>\n",
              "    </tr>\n",
              "  </thead>\n",
              "  <tbody>\n",
              "    <tr>\n",
              "      <th>0</th>\n",
              "      <td>tt0000009</td>\n",
              "      <td>Miss Jerry</td>\n",
              "      <td>Miss Jerry</td>\n",
              "      <td>1894</td>\n",
              "      <td>1894-10-09</td>\n",
              "      <td>Romance</td>\n",
              "      <td>45</td>\n",
              "      <td>USA</td>\n",
              "      <td>None</td>\n",
              "      <td>Alexander Black</td>\n",
              "      <td>Alexander Black</td>\n",
              "      <td>Alexander Black Photoplays</td>\n",
              "      <td>Blanche Bayliss, William Courtenay, Chauncey D...</td>\n",
              "      <td>The adventures of a female reporter in the 1890s.</td>\n",
              "      <td>5.9</td>\n",
              "      <td>154</td>\n",
              "      <td>NaN</td>\n",
              "      <td>NaN</td>\n",
              "      <td>NaN</td>\n",
              "      <td>NaN</td>\n",
              "      <td>1.0</td>\n",
              "      <td>2.0</td>\n",
              "    </tr>\n",
              "    <tr>\n",
              "      <th>1</th>\n",
              "      <td>tt0000574</td>\n",
              "      <td>The Story of the Kelly Gang</td>\n",
              "      <td>The Story of the Kelly Gang</td>\n",
              "      <td>1906</td>\n",
              "      <td>1906-12-26</td>\n",
              "      <td>Biography, Crime, Drama</td>\n",
              "      <td>70</td>\n",
              "      <td>Australia</td>\n",
              "      <td>None</td>\n",
              "      <td>Charles Tait</td>\n",
              "      <td>Charles Tait</td>\n",
              "      <td>J. and N. Tait</td>\n",
              "      <td>Elizabeth Tait, John Tait, Norman Campbell, Be...</td>\n",
              "      <td>True story of notorious Australian outlaw Ned ...</td>\n",
              "      <td>6.1</td>\n",
              "      <td>589</td>\n",
              "      <td>$ 2250</td>\n",
              "      <td>NaN</td>\n",
              "      <td>NaN</td>\n",
              "      <td>NaN</td>\n",
              "      <td>7.0</td>\n",
              "      <td>7.0</td>\n",
              "    </tr>\n",
              "    <tr>\n",
              "      <th>2</th>\n",
              "      <td>tt0001892</td>\n",
              "      <td>Den sorte drøm</td>\n",
              "      <td>Den sorte drøm</td>\n",
              "      <td>1911</td>\n",
              "      <td>1911-08-19</td>\n",
              "      <td>Drama</td>\n",
              "      <td>53</td>\n",
              "      <td>Germany, Denmark</td>\n",
              "      <td>NaN</td>\n",
              "      <td>Urban Gad</td>\n",
              "      <td>Urban Gad, Gebhard Schätzler-Perasini</td>\n",
              "      <td>Fotorama</td>\n",
              "      <td>Asta Nielsen, Valdemar Psilander, Gunnar Helse...</td>\n",
              "      <td>Two men of high rank are both wooing the beaut...</td>\n",
              "      <td>5.8</td>\n",
              "      <td>188</td>\n",
              "      <td>NaN</td>\n",
              "      <td>NaN</td>\n",
              "      <td>NaN</td>\n",
              "      <td>NaN</td>\n",
              "      <td>5.0</td>\n",
              "      <td>2.0</td>\n",
              "    </tr>\n",
              "    <tr>\n",
              "      <th>3</th>\n",
              "      <td>tt0002101</td>\n",
              "      <td>Cleopatra</td>\n",
              "      <td>Cleopatra</td>\n",
              "      <td>1912</td>\n",
              "      <td>1912-11-13</td>\n",
              "      <td>Drama, History</td>\n",
              "      <td>100</td>\n",
              "      <td>USA</td>\n",
              "      <td>English</td>\n",
              "      <td>Charles L. Gaskill</td>\n",
              "      <td>Victorien Sardou</td>\n",
              "      <td>Helen Gardner Picture Players</td>\n",
              "      <td>Helen Gardner, Pearl Sindelar, Miss Fielding, ...</td>\n",
              "      <td>The fabled queen of Egypt's affair with Roman ...</td>\n",
              "      <td>5.2</td>\n",
              "      <td>446</td>\n",
              "      <td>$ 45000</td>\n",
              "      <td>NaN</td>\n",
              "      <td>NaN</td>\n",
              "      <td>NaN</td>\n",
              "      <td>25.0</td>\n",
              "      <td>3.0</td>\n",
              "    </tr>\n",
              "    <tr>\n",
              "      <th>4</th>\n",
              "      <td>tt0002130</td>\n",
              "      <td>L'Inferno</td>\n",
              "      <td>L'Inferno</td>\n",
              "      <td>1911</td>\n",
              "      <td>1911-03-06</td>\n",
              "      <td>Adventure, Drama, Fantasy</td>\n",
              "      <td>68</td>\n",
              "      <td>Italy</td>\n",
              "      <td>Italian</td>\n",
              "      <td>Francesco Bertolini, Adolfo Padovan</td>\n",
              "      <td>Dante Alighieri</td>\n",
              "      <td>Milano Film</td>\n",
              "      <td>Salvatore Papa, Arturo Pirovano, Giuseppe de L...</td>\n",
              "      <td>Loosely adapted from Dante's Divine Comedy and...</td>\n",
              "      <td>7.0</td>\n",
              "      <td>2237</td>\n",
              "      <td>NaN</td>\n",
              "      <td>NaN</td>\n",
              "      <td>NaN</td>\n",
              "      <td>NaN</td>\n",
              "      <td>31.0</td>\n",
              "      <td>14.0</td>\n",
              "    </tr>\n",
              "    <tr>\n",
              "      <th>...</th>\n",
              "      <td>...</td>\n",
              "      <td>...</td>\n",
              "      <td>...</td>\n",
              "      <td>...</td>\n",
              "      <td>...</td>\n",
              "      <td>...</td>\n",
              "      <td>...</td>\n",
              "      <td>...</td>\n",
              "      <td>...</td>\n",
              "      <td>...</td>\n",
              "      <td>...</td>\n",
              "      <td>...</td>\n",
              "      <td>...</td>\n",
              "      <td>...</td>\n",
              "      <td>...</td>\n",
              "      <td>...</td>\n",
              "      <td>...</td>\n",
              "      <td>...</td>\n",
              "      <td>...</td>\n",
              "      <td>...</td>\n",
              "      <td>...</td>\n",
              "      <td>...</td>\n",
              "    </tr>\n",
              "    <tr>\n",
              "      <th>85850</th>\n",
              "      <td>tt9908390</td>\n",
              "      <td>Le lion</td>\n",
              "      <td>Le lion</td>\n",
              "      <td>2020</td>\n",
              "      <td>2020-01-29</td>\n",
              "      <td>Comedy</td>\n",
              "      <td>95</td>\n",
              "      <td>France, Belgium</td>\n",
              "      <td>French</td>\n",
              "      <td>Ludovic Colbeau-Justin</td>\n",
              "      <td>Alexandre Coquelle, Matthieu Le Naour</td>\n",
              "      <td>Monkey Pack Films</td>\n",
              "      <td>Dany Boon, Philippe Katerine, Anne Serra, Samu...</td>\n",
              "      <td>A psychiatric hospital patient pretends to be ...</td>\n",
              "      <td>5.3</td>\n",
              "      <td>398</td>\n",
              "      <td>NaN</td>\n",
              "      <td>NaN</td>\n",
              "      <td>$ 3507171</td>\n",
              "      <td>NaN</td>\n",
              "      <td>NaN</td>\n",
              "      <td>4.0</td>\n",
              "    </tr>\n",
              "    <tr>\n",
              "      <th>85851</th>\n",
              "      <td>tt9911196</td>\n",
              "      <td>De Beentjes van Sint-Hildegard</td>\n",
              "      <td>De Beentjes van Sint-Hildegard</td>\n",
              "      <td>2020</td>\n",
              "      <td>2020-02-13</td>\n",
              "      <td>Comedy, Drama</td>\n",
              "      <td>103</td>\n",
              "      <td>Netherlands</td>\n",
              "      <td>German, Dutch</td>\n",
              "      <td>Johan Nijenhuis</td>\n",
              "      <td>Radek Bajgar, Herman Finkers</td>\n",
              "      <td>Johan Nijenhuis &amp; Co</td>\n",
              "      <td>Herman Finkers, Johanna ter Steege, Leonie ter...</td>\n",
              "      <td>A middle-aged veterinary surgeon believes his ...</td>\n",
              "      <td>7.7</td>\n",
              "      <td>724</td>\n",
              "      <td>NaN</td>\n",
              "      <td>NaN</td>\n",
              "      <td>$ 7299062</td>\n",
              "      <td>NaN</td>\n",
              "      <td>6.0</td>\n",
              "      <td>4.0</td>\n",
              "    </tr>\n",
              "    <tr>\n",
              "      <th>85852</th>\n",
              "      <td>tt9911774</td>\n",
              "      <td>Padmavyuhathile Abhimanyu</td>\n",
              "      <td>Padmavyuhathile Abhimanyu</td>\n",
              "      <td>2019</td>\n",
              "      <td>2019-03-08</td>\n",
              "      <td>Drama</td>\n",
              "      <td>130</td>\n",
              "      <td>India</td>\n",
              "      <td>Malayalam</td>\n",
              "      <td>Vineesh Aaradya</td>\n",
              "      <td>Vineesh Aaradya, Vineesh Aaradya</td>\n",
              "      <td>RMCC Productions</td>\n",
              "      <td>Anoop Chandran, Indrans, Sona Nair, Simon Brit...</td>\n",
              "      <td>NaN</td>\n",
              "      <td>7.9</td>\n",
              "      <td>265</td>\n",
              "      <td>NaN</td>\n",
              "      <td>NaN</td>\n",
              "      <td>NaN</td>\n",
              "      <td>NaN</td>\n",
              "      <td>NaN</td>\n",
              "      <td>NaN</td>\n",
              "    </tr>\n",
              "    <tr>\n",
              "      <th>85853</th>\n",
              "      <td>tt9914286</td>\n",
              "      <td>Sokagin Çocuklari</td>\n",
              "      <td>Sokagin Çocuklari</td>\n",
              "      <td>2019</td>\n",
              "      <td>2019-03-15</td>\n",
              "      <td>Drama, Family</td>\n",
              "      <td>98</td>\n",
              "      <td>Turkey</td>\n",
              "      <td>Turkish</td>\n",
              "      <td>Ahmet Faik Akinci</td>\n",
              "      <td>Ahmet Faik Akinci, Kasim Uçkan</td>\n",
              "      <td>Gizem Ajans</td>\n",
              "      <td>Ahmet Faik Akinci, Belma Mamati, Metin Keçeci,...</td>\n",
              "      <td>NaN</td>\n",
              "      <td>6.4</td>\n",
              "      <td>194</td>\n",
              "      <td>NaN</td>\n",
              "      <td>NaN</td>\n",
              "      <td>$ 2833</td>\n",
              "      <td>NaN</td>\n",
              "      <td>NaN</td>\n",
              "      <td>NaN</td>\n",
              "    </tr>\n",
              "    <tr>\n",
              "      <th>85854</th>\n",
              "      <td>tt9914942</td>\n",
              "      <td>La vida sense la Sara Amat</td>\n",
              "      <td>La vida sense la Sara Amat</td>\n",
              "      <td>2019</td>\n",
              "      <td>2020-02-05</td>\n",
              "      <td>Drama</td>\n",
              "      <td>74</td>\n",
              "      <td>Spain</td>\n",
              "      <td>Catalan</td>\n",
              "      <td>Laura Jou</td>\n",
              "      <td>Coral Cruz, Pep Puig</td>\n",
              "      <td>La Xarxa de Comunicació Local</td>\n",
              "      <td>Maria Morera Colomer, Biel Rossell Pelfort, Is...</td>\n",
              "      <td>Pep, a 13-year-old boy, is in love with a girl...</td>\n",
              "      <td>6.7</td>\n",
              "      <td>102</td>\n",
              "      <td>NaN</td>\n",
              "      <td>NaN</td>\n",
              "      <td>$ 59794</td>\n",
              "      <td>NaN</td>\n",
              "      <td>NaN</td>\n",
              "      <td>2.0</td>\n",
              "    </tr>\n",
              "  </tbody>\n",
              "</table>\n",
              "<p>85855 rows × 22 columns</p>\n",
              "</div>"
            ],
            "text/plain": [
              "      imdb_title_id  ... reviews_from_critics\n",
              "0         tt0000009  ...                  2.0\n",
              "1         tt0000574  ...                  7.0\n",
              "2         tt0001892  ...                  2.0\n",
              "3         tt0002101  ...                  3.0\n",
              "4         tt0002130  ...                 14.0\n",
              "...             ...  ...                  ...\n",
              "85850     tt9908390  ...                  4.0\n",
              "85851     tt9911196  ...                  4.0\n",
              "85852     tt9911774  ...                  NaN\n",
              "85853     tt9914286  ...                  NaN\n",
              "85854     tt9914942  ...                  2.0\n",
              "\n",
              "[85855 rows x 22 columns]"
            ]
          },
          "metadata": {
            "tags": []
          },
          "execution_count": 10
        }
      ]
    },
    {
      "cell_type": "code",
      "metadata": {
        "colab": {
          "base_uri": "https://localhost:8080/"
        },
        "id": "c0_K8yhEgpnD",
        "outputId": "21659f67-811a-45eb-e2ce-88c971a66690"
      },
      "source": [
        "df.info()"
      ],
      "execution_count": 11,
      "outputs": [
        {
          "output_type": "stream",
          "text": [
            "<class 'pandas.core.frame.DataFrame'>\n",
            "RangeIndex: 85855 entries, 0 to 85854\n",
            "Data columns (total 22 columns):\n",
            " #   Column                 Non-Null Count  Dtype  \n",
            "---  ------                 --------------  -----  \n",
            " 0   imdb_title_id          85855 non-null  object \n",
            " 1   title                  85855 non-null  object \n",
            " 2   original_title         85855 non-null  object \n",
            " 3   year                   85855 non-null  object \n",
            " 4   date_published         85855 non-null  object \n",
            " 5   genre                  85855 non-null  object \n",
            " 6   duration               85855 non-null  int64  \n",
            " 7   country                85791 non-null  object \n",
            " 8   language               85022 non-null  object \n",
            " 9   director               85768 non-null  object \n",
            " 10  writer                 84283 non-null  object \n",
            " 11  production_company     81400 non-null  object \n",
            " 12  actors                 85786 non-null  object \n",
            " 13  description            83740 non-null  object \n",
            " 14  avg_vote               85855 non-null  float64\n",
            " 15  votes                  85855 non-null  int64  \n",
            " 16  budget                 23710 non-null  object \n",
            " 17  usa_gross_income       15326 non-null  object \n",
            " 18  worlwide_gross_income  31016 non-null  object \n",
            " 19  metascore              13305 non-null  float64\n",
            " 20  reviews_from_users     78258 non-null  float64\n",
            " 21  reviews_from_critics   74058 non-null  float64\n",
            "dtypes: float64(4), int64(2), object(16)\n",
            "memory usage: 14.4+ MB\n"
          ],
          "name": "stdout"
        }
      ]
    },
    {
      "cell_type": "code",
      "metadata": {
        "colab": {
          "base_uri": "https://localhost:8080/",
          "height": 286
        },
        "id": "YK_iWesyhAf0",
        "outputId": "c61d25dd-a54c-4f34-a5bf-dcd4a3b73ecf"
      },
      "source": [
        "df.describe()"
      ],
      "execution_count": 12,
      "outputs": [
        {
          "output_type": "execute_result",
          "data": {
            "text/html": [
              "<div>\n",
              "<style scoped>\n",
              "    .dataframe tbody tr th:only-of-type {\n",
              "        vertical-align: middle;\n",
              "    }\n",
              "\n",
              "    .dataframe tbody tr th {\n",
              "        vertical-align: top;\n",
              "    }\n",
              "\n",
              "    .dataframe thead th {\n",
              "        text-align: right;\n",
              "    }\n",
              "</style>\n",
              "<table border=\"1\" class=\"dataframe\">\n",
              "  <thead>\n",
              "    <tr style=\"text-align: right;\">\n",
              "      <th></th>\n",
              "      <th>duration</th>\n",
              "      <th>avg_vote</th>\n",
              "      <th>votes</th>\n",
              "      <th>metascore</th>\n",
              "      <th>reviews_from_users</th>\n",
              "      <th>reviews_from_critics</th>\n",
              "    </tr>\n",
              "  </thead>\n",
              "  <tbody>\n",
              "    <tr>\n",
              "      <th>count</th>\n",
              "      <td>85855.000000</td>\n",
              "      <td>85855.000000</td>\n",
              "      <td>8.585500e+04</td>\n",
              "      <td>13305.000000</td>\n",
              "      <td>78258.000000</td>\n",
              "      <td>74058.000000</td>\n",
              "    </tr>\n",
              "    <tr>\n",
              "      <th>mean</th>\n",
              "      <td>100.351418</td>\n",
              "      <td>5.898656</td>\n",
              "      <td>9.493490e+03</td>\n",
              "      <td>55.896881</td>\n",
              "      <td>46.040826</td>\n",
              "      <td>27.479989</td>\n",
              "    </tr>\n",
              "    <tr>\n",
              "      <th>std</th>\n",
              "      <td>22.553848</td>\n",
              "      <td>1.234987</td>\n",
              "      <td>5.357436e+04</td>\n",
              "      <td>17.784874</td>\n",
              "      <td>178.511411</td>\n",
              "      <td>58.339158</td>\n",
              "    </tr>\n",
              "    <tr>\n",
              "      <th>min</th>\n",
              "      <td>41.000000</td>\n",
              "      <td>1.000000</td>\n",
              "      <td>9.900000e+01</td>\n",
              "      <td>1.000000</td>\n",
              "      <td>1.000000</td>\n",
              "      <td>1.000000</td>\n",
              "    </tr>\n",
              "    <tr>\n",
              "      <th>25%</th>\n",
              "      <td>88.000000</td>\n",
              "      <td>5.200000</td>\n",
              "      <td>2.050000e+02</td>\n",
              "      <td>43.000000</td>\n",
              "      <td>4.000000</td>\n",
              "      <td>3.000000</td>\n",
              "    </tr>\n",
              "    <tr>\n",
              "      <th>50%</th>\n",
              "      <td>96.000000</td>\n",
              "      <td>6.100000</td>\n",
              "      <td>4.840000e+02</td>\n",
              "      <td>57.000000</td>\n",
              "      <td>9.000000</td>\n",
              "      <td>8.000000</td>\n",
              "    </tr>\n",
              "    <tr>\n",
              "      <th>75%</th>\n",
              "      <td>108.000000</td>\n",
              "      <td>6.800000</td>\n",
              "      <td>1.766500e+03</td>\n",
              "      <td>69.000000</td>\n",
              "      <td>27.000000</td>\n",
              "      <td>23.000000</td>\n",
              "    </tr>\n",
              "    <tr>\n",
              "      <th>max</th>\n",
              "      <td>808.000000</td>\n",
              "      <td>9.900000</td>\n",
              "      <td>2.278845e+06</td>\n",
              "      <td>100.000000</td>\n",
              "      <td>10472.000000</td>\n",
              "      <td>999.000000</td>\n",
              "    </tr>\n",
              "  </tbody>\n",
              "</table>\n",
              "</div>"
            ],
            "text/plain": [
              "           duration      avg_vote  ...  reviews_from_users  reviews_from_critics\n",
              "count  85855.000000  85855.000000  ...        78258.000000          74058.000000\n",
              "mean     100.351418      5.898656  ...           46.040826             27.479989\n",
              "std       22.553848      1.234987  ...          178.511411             58.339158\n",
              "min       41.000000      1.000000  ...            1.000000              1.000000\n",
              "25%       88.000000      5.200000  ...            4.000000              3.000000\n",
              "50%       96.000000      6.100000  ...            9.000000              8.000000\n",
              "75%      108.000000      6.800000  ...           27.000000             23.000000\n",
              "max      808.000000      9.900000  ...        10472.000000            999.000000\n",
              "\n",
              "[8 rows x 6 columns]"
            ]
          },
          "metadata": {
            "tags": []
          },
          "execution_count": 12
        }
      ]
    },
    {
      "cell_type": "markdown",
      "metadata": {
        "id": "mGVYx2Jci-N7"
      },
      "source": [
        "Is There a co-relation of Duration/Budget/country/actor of movies with rating ?\n",
        "\n",
        "\n",
        "What is the mantra to increase the Gross Income?\n"
      ]
    },
    {
      "cell_type": "markdown",
      "metadata": {
        "id": "2ZahFAaYkW1S"
      },
      "source": [
        "Missing values per column"
      ]
    },
    {
      "cell_type": "code",
      "metadata": {
        "colab": {
          "base_uri": "https://localhost:8080/"
        },
        "id": "q6SdCkRehdR5",
        "outputId": "74ad28ca-4501-4d2a-818c-24e4eafd0327"
      },
      "source": [
        "df.isna().sum().sort_values(ascending = False)"
      ],
      "execution_count": 13,
      "outputs": [
        {
          "output_type": "execute_result",
          "data": {
            "text/plain": [
              "metascore                72550\n",
              "usa_gross_income         70529\n",
              "budget                   62145\n",
              "worlwide_gross_income    54839\n",
              "reviews_from_critics     11797\n",
              "reviews_from_users        7597\n",
              "production_company        4455\n",
              "description               2115\n",
              "writer                    1572\n",
              "language                   833\n",
              "director                    87\n",
              "actors                      69\n",
              "country                     64\n",
              "avg_vote                     0\n",
              "votes                        0\n",
              "duration                     0\n",
              "genre                        0\n",
              "date_published               0\n",
              "year                         0\n",
              "original_title               0\n",
              "title                        0\n",
              "imdb_title_id                0\n",
              "dtype: int64"
            ]
          },
          "metadata": {
            "tags": []
          },
          "execution_count": 13
        }
      ]
    },
    {
      "cell_type": "markdown",
      "metadata": {
        "id": "-ab2-lV1kldk"
      },
      "source": [
        "Percentage of missing values per column"
      ]
    },
    {
      "cell_type": "code",
      "metadata": {
        "id": "K41JF082kQ4L"
      },
      "source": [
        "missing_percentages = 100 * df.isna().sum().sort_values(ascending = False)/(len(df))"
      ],
      "execution_count": 14,
      "outputs": []
    },
    {
      "cell_type": "code",
      "metadata": {
        "colab": {
          "base_uri": "https://localhost:8080/"
        },
        "id": "lDtw3X-zyIuL",
        "outputId": "1de041ce-9df2-492e-93c0-0eb7e5d51cec"
      },
      "source": [
        "df.isna().sum()"
      ],
      "execution_count": 15,
      "outputs": [
        {
          "output_type": "execute_result",
          "data": {
            "text/plain": [
              "imdb_title_id                0\n",
              "title                        0\n",
              "original_title               0\n",
              "year                         0\n",
              "date_published               0\n",
              "genre                        0\n",
              "duration                     0\n",
              "country                     64\n",
              "language                   833\n",
              "director                    87\n",
              "writer                    1572\n",
              "production_company        4455\n",
              "actors                      69\n",
              "description               2115\n",
              "avg_vote                     0\n",
              "votes                        0\n",
              "budget                   62145\n",
              "usa_gross_income         70529\n",
              "worlwide_gross_income    54839\n",
              "metascore                72550\n",
              "reviews_from_users        7597\n",
              "reviews_from_critics     11797\n",
              "dtype: int64"
            ]
          },
          "metadata": {
            "tags": []
          },
          "execution_count": 15
        }
      ]
    },
    {
      "cell_type": "code",
      "metadata": {
        "colab": {
          "base_uri": "https://localhost:8080/",
          "height": 281
        },
        "id": "y-jKFRa6lyD6",
        "outputId": "c2011f9d-c21c-44e4-8bb9-810da4cb9990"
      },
      "source": [
        "missing_percentages[missing_percentages != 0].plot(kind='barh')"
      ],
      "execution_count": 16,
      "outputs": [
        {
          "output_type": "execute_result",
          "data": {
            "text/plain": [
              "<matplotlib.axes._subplots.AxesSubplot at 0x7f61e60b6f50>"
            ]
          },
          "metadata": {
            "tags": []
          },
          "execution_count": 16
        },
        {
          "output_type": "display_data",
          "data": {
            "image/png": "[encoded data removed]",
            "text/plain": [
              "<Figure size 432x288 with 1 Axes>"
            ]
          },
          "metadata": {
            "tags": [],
            "needs_background": "light"
          }
        }
      ]
    },
    {
      "cell_type": "markdown",
      "metadata": {
        "id": "Oag8WIWp3lWX"
      },
      "source": [
        "\n",
        "Exploratory Analysis and Visualization\n",
        "\n",
        "---\n",
        "\n",
        "\n",
        "\n",
        "---\n",
        "\n"
      ]
    },
    {
      "cell_type": "code",
      "metadata": {
        "colab": {
          "base_uri": "https://localhost:8080/"
        },
        "id": "J9wRGqFi3lGA",
        "outputId": "b76b1d0b-ee4d-4adf-8654-8a33302d85a7"
      },
      "source": [
        "df.columns"
      ],
      "execution_count": 17,
      "outputs": [
        {
          "output_type": "execute_result",
          "data": {
            "text/plain": [
              "Index(['imdb_title_id', 'title', 'original_title', 'year', 'date_published',\n",
              "       'genre', 'duration', 'country', 'language', 'director', 'writer',\n",
              "       'production_company', 'actors', 'description', 'avg_vote', 'votes',\n",
              "       'budget', 'usa_gross_income', 'worlwide_gross_income', 'metascore',\n",
              "       'reviews_from_users', 'reviews_from_critics'],\n",
              "      dtype='object')"
            ]
          },
          "metadata": {
            "tags": []
          },
          "execution_count": 17
        }
      ]
    },
    {
      "cell_type": "markdown",
      "metadata": {
        "id": "64IBeh3TwSpG"
      },
      "source": [
        "**Exploratory Analysis and Visualization**\n",
        "Columns we'll analyze:\n",
        "\n",
        "\n",
        "1.   Genre\n",
        "2.   country\n",
        "3.   language\n",
        "4.   Director\n",
        "5.   writer\n",
        "6.   avg_vote , Votes\n",
        "7.   budget\n",
        "8.   worlwide_gross_income\n",
        "9.   Reviews\n",
        "10.   actors  \n",
        "\n",
        "\n"
      ]
    },
    {
      "cell_type": "code",
      "metadata": {
        "colab": {
          "base_uri": "https://localhost:8080/"
        },
        "id": "mmZw4f2rwSdX",
        "outputId": "dae61988-ac3d-412a-9c19-a8e4a087f976"
      },
      "source": [
        "df.genre"
      ],
      "execution_count": 18,
      "outputs": [
        {
          "output_type": "execute_result",
          "data": {
            "text/plain": [
              "0                          Romance\n",
              "1          Biography, Crime, Drama\n",
              "2                            Drama\n",
              "3                   Drama, History\n",
              "4        Adventure, Drama, Fantasy\n",
              "                   ...            \n",
              "85850                       Comedy\n",
              "85851                Comedy, Drama\n",
              "85852                        Drama\n",
              "85853                Drama, Family\n",
              "85854                        Drama\n",
              "Name: genre, Length: 85855, dtype: object"
            ]
          },
          "metadata": {
            "tags": []
          },
          "execution_count": 18
        }
      ]
    },
    {
      "cell_type": "code",
      "metadata": {
        "id": "x2YyobcpmIrd",
        "colab": {
          "base_uri": "https://localhost:8080/"
        },
        "outputId": "40dfcd79-a952-4aab-8f4e-100150935a00"
      },
      "source": [
        "genres =df.genre.unique()\n",
        "len(genres)"
      ],
      "execution_count": 19,
      "outputs": [
        {
          "output_type": "execute_result",
          "data": {
            "text/plain": [
              "1257"
            ]
          },
          "metadata": {
            "tags": []
          },
          "execution_count": 19
        }
      ]
    },
    {
      "cell_type": "code",
      "metadata": {
        "id": "k_1JiwddzPRj"
      },
      "source": [
        "genres_count = df.genre.value_counts()"
      ],
      "execution_count": 20,
      "outputs": []
    },
    {
      "cell_type": "code",
      "metadata": {
        "colab": {
          "base_uri": "https://localhost:8080/"
        },
        "id": "CHCaUWfwzkGe",
        "outputId": "00787b86-a809-4464-b1c0-66b98b3c2bde"
      },
      "source": [
        "genres_count"
      ],
      "execution_count": 21,
      "outputs": [
        {
          "output_type": "execute_result",
          "data": {
            "text/plain": [
              "Drama                            12543\n",
              "Comedy                            7693\n",
              "Comedy, Drama                     4039\n",
              "Drama, Romance                    3455\n",
              "Comedy, Romance                   2508\n",
              "                                 ...  \n",
              "Adventure, Film-Noir, Romance        1\n",
              "Comedy, Musical, Adventure           1\n",
              "Fantasy, Mystery, Western            1\n",
              "Action, Mystery, Western             1\n",
              "Crime, Romance, Sci-Fi               1\n",
              "Name: genre, Length: 1257, dtype: int64"
            ]
          },
          "metadata": {
            "tags": []
          },
          "execution_count": 21
        }
      ]
    },
    {
      "cell_type": "code",
      "metadata": {
        "colab": {
          "base_uri": "https://localhost:8080/",
          "height": 281
        },
        "id": "CZknA6EDf1VN",
        "outputId": "13880a49-fcef-4a28-c608-1ca6c18305ed"
      },
      "source": [
        "genres_count[:10].plot(kind='barh')"
      ],
      "execution_count": 22,
      "outputs": [
        {
          "output_type": "execute_result",
          "data": {
            "text/plain": [
              "<matplotlib.axes._subplots.AxesSubplot at 0x7f61e5f6f790>"
            ]
          },
          "metadata": {
            "tags": []
          },
          "execution_count": 22
        },
        {
          "output_type": "display_data",
          "data": {
            "image/png": "[encoded data removed]",
            "text/plain": [
              "<Figure size 432x288 with 1 Axes>"
            ]
          },
          "metadata": {
            "tags": [],
            "needs_background": "light"
          }
        }
      ]
    },
    {
      "cell_type": "code",
      "metadata": {
        "id": "v4RdPjKlgAaK"
      },
      "source": [
        "country_count = df.country.value_counts()"
      ],
      "execution_count": 23,
      "outputs": []
    },
    {
      "cell_type": "code",
      "metadata": {
        "colab": {
          "base_uri": "https://localhost:8080/",
          "height": 281
        },
        "id": "EhDsmuRGgazQ",
        "outputId": "854a14f7-e59d-4c1a-df4f-4eea5fd0a31a"
      },
      "source": [
        "country_count[:10].plot(kind='barh')"
      ],
      "execution_count": 24,
      "outputs": [
        {
          "output_type": "execute_result",
          "data": {
            "text/plain": [
              "<matplotlib.axes._subplots.AxesSubplot at 0x7f61e5aaad50>"
            ]
          },
          "metadata": {
            "tags": []
          },
          "execution_count": 24
        },
        {
          "output_type": "display_data",
          "data": {
            "image/png": "[encoded data removed]",
            "text/plain": [
              "<Figure size 432x288 with 1 Axes>"
            ]
          },
          "metadata": {
            "tags": [],
            "needs_background": "light"
          }
        }
      ]
    },
    {
      "cell_type": "code",
      "metadata": {
        "colab": {
          "base_uri": "https://localhost:8080/"
        },
        "id": "SiXyCAoGgx1L",
        "outputId": "08b23a5e-d972-4702-bb7e-e3319e78721d"
      },
      "source": [
        "country_count[:10]"
      ],
      "execution_count": 25,
      "outputs": [
        {
          "output_type": "execute_result",
          "data": {
            "text/plain": [
              "USA          28511\n",
              "India         6065\n",
              "UK            4111\n",
              "Japan         3077\n",
              "France        3055\n",
              "Italy         2444\n",
              "Canada        1802\n",
              "Germany       1396\n",
              "Turkey        1351\n",
              "Hong Kong     1239\n",
              "Name: country, dtype: int64"
            ]
          },
          "metadata": {
            "tags": []
          },
          "execution_count": 25
        }
      ]
    },
    {
      "cell_type": "code",
      "metadata": {
        "colab": {
          "base_uri": "https://localhost:8080/"
        },
        "id": "edEeMCp9hQY4",
        "outputId": "69121b42-c487-4589-9fd0-93aba340ef85"
      },
      "source": [
        " movies_by_raiting = df.avg_vote.value_counts()\n",
        " movies_by_raiting"
      ],
      "execution_count": 26,
      "outputs": [
        {
          "output_type": "execute_result",
          "data": {
            "text/plain": [
              "6.4    3407\n",
              "6.2    3347\n",
              "6.5    3335\n",
              "6.3    3318\n",
              "6.6    3195\n",
              "       ... \n",
              "9.8       4\n",
              "9.7       3\n",
              "9.4       2\n",
              "9.5       2\n",
              "9.9       1\n",
              "Name: avg_vote, Length: 89, dtype: int64"
            ]
          },
          "metadata": {
            "tags": []
          },
          "execution_count": 26
        }
      ]
    },
    {
      "cell_type": "markdown",
      "metadata": {
        "id": "fg46mRdRo-8q"
      },
      "source": [
        "IMDb 6.4 is the most raiting\n"
      ]
    },
    {
      "cell_type": "code",
      "metadata": {
        "colab": {
          "base_uri": "https://localhost:8080/"
        },
        "id": "7GeyG3yVixq-",
        "outputId": "e4e3fb2f-87e9-4b83-a48a-661706850270"
      },
      "source": [
        "top_rated = df.avg_vote[df.avg_vote >= 7]\n",
        "100*len(top_rated)/len(df.avg_vote)"
      ],
      "execution_count": 27,
      "outputs": [
        {
          "output_type": "execute_result",
          "data": {
            "text/plain": [
              "18.765360200337778"
            ]
          },
          "metadata": {
            "tags": []
          },
          "execution_count": 27
        }
      ]
    },
    {
      "cell_type": "code",
      "metadata": {
        "colab": {
          "base_uri": "https://localhost:8080/"
        },
        "id": "GRrz7ZS2jQOQ",
        "outputId": "0d683103-ad53-4969-c190-7ae10b2e9180"
      },
      "source": [
        "low_rated = df.avg_vote[df.avg_vote < 7]\n",
        "100*len(low_rated)/len(df.avg_vote)"
      ],
      "execution_count": 28,
      "outputs": [
        {
          "output_type": "execute_result",
          "data": {
            "text/plain": [
              "81.23463979966222"
            ]
          },
          "metadata": {
            "tags": []
          },
          "execution_count": 28
        }
      ]
    },
    {
      "cell_type": "markdown",
      "metadata": {
        "id": "k50DUMC2kY_k"
      },
      "source": [
        "18.8% movies are rated above 7\n",
        "\n",
        "81.2% movies are rated below 7"
      ]
    },
    {
      "cell_type": "code",
      "metadata": {
        "id": "kb8_BzHUjtFp"
      },
      "source": [
        "\n",
        "import seaborn as sns"
      ],
      "execution_count": 29,
      "outputs": []
    },
    {
      "cell_type": "code",
      "metadata": {
        "colab": {
          "base_uri": "https://localhost:8080/",
          "height": 385
        },
        "id": "oa4pZ8qomwLV",
        "outputId": "2347ab34-538d-4089-cf84-e7d769bb1d6d"
      },
      "source": [
        "sns.displot(df.avg_vote)"
      ],
      "execution_count": 30,
      "outputs": [
        {
          "output_type": "execute_result",
          "data": {
            "text/plain": [
              "<seaborn.axisgrid.FacetGrid at 0x7f61ec41ae50>"
            ]
          },
          "metadata": {
            "tags": []
          },
          "execution_count": 30
        },
        {
          "output_type": "display_data",
          "data": {
            "image/png": "[encoded data removed]",
            "text/plain": [
              "<Figure size 360x360 with 1 Axes>"
            ]
          },
          "metadata": {
            "tags": [],
            "needs_background": "light"
          }
        }
      ]
    },
    {
      "cell_type": "code",
      "metadata": {
        "colab": {
          "base_uri": "https://localhost:8080/",
          "height": 385
        },
        "id": "BW_34C48m0bE",
        "outputId": "710d1d4f-b603-4194-f9f0-4884cc254f30"
      },
      "source": [
        "sns.displot(top_rated)"
      ],
      "execution_count": 31,
      "outputs": [
        {
          "output_type": "execute_result",
          "data": {
            "text/plain": [
              "<seaborn.axisgrid.FacetGrid at 0x7f61ec41a210>"
            ]
          },
          "metadata": {
            "tags": []
          },
          "execution_count": 31
        },
        {
          "output_type": "display_data",
          "data": {
            "image/png": "[encoded data removed]",
            "text/plain": [
              "<Figure size 360x360 with 1 Axes>"
            ]
          },
          "metadata": {
            "tags": [],
            "needs_background": "light"
          }
        }
      ]
    },
    {
      "cell_type": "code",
      "metadata": {
        "colab": {
          "base_uri": "https://localhost:8080/",
          "height": 385
        },
        "id": "_Bvun5gznKCF",
        "outputId": "4e438230-254d-4ecc-fbfd-09f1e99ba400"
      },
      "source": [
        "sns.displot(low_rated)"
      ],
      "execution_count": 32,
      "outputs": [
        {
          "output_type": "execute_result",
          "data": {
            "text/plain": [
              "<seaborn.axisgrid.FacetGrid at 0x7f61d6ed8150>"
            ]
          },
          "metadata": {
            "tags": []
          },
          "execution_count": 32
        },
        {
          "output_type": "display_data",
          "data": {
            "image/png": "[encoded data removed]",
            "text/plain": [
              "<Figure size 360x360 with 1 Axes>"
            ]
          },
          "metadata": {
            "tags": [],
            "needs_background": "light"
          }
        }
      ]
    },
    {
      "cell_type": "code",
      "metadata": {
        "id": "0sF7Ocju0zpV",
        "colab": {
          "base_uri": "https://localhost:8080/"
        },
        "outputId": "e85faaf9-a124-4614-9b7f-1eef17f94456"
      },
      "source": [
        "language_count = df.language.value_counts()\n",
        "language_count"
      ],
      "execution_count": 33,
      "outputs": [
        {
          "output_type": "execute_result",
          "data": {
            "text/plain": [
              "English                                         35939\n",
              "French                                           3903\n",
              "Spanish                                          2831\n",
              "Japanese                                         2826\n",
              "Italian                                          2731\n",
              "                                                ...  \n",
              "Vietnamese, Mandarin                                1\n",
              "Indonesian, English, Thai                           1\n",
              "Cantonese, English, Mandarin, Japanese, Thai        1\n",
              "Cantonese, English, Tagalog                         1\n",
              "French, Hebrew, Arabic                              1\n",
              "Name: language, Length: 4377, dtype: int64"
            ]
          },
          "metadata": {
            "tags": []
          },
          "execution_count": 33
        }
      ]
    },
    {
      "cell_type": "code",
      "metadata": {
        "colab": {
          "base_uri": "https://localhost:8080/"
        },
        "id": "23um-DtAqOBp",
        "outputId": "30b30556-550f-45e0-8afd-0e518b24974e"
      },
      "source": [
        "len(language_count)"
      ],
      "execution_count": 34,
      "outputs": [
        {
          "output_type": "execute_result",
          "data": {
            "text/plain": [
              "4377"
            ]
          },
          "metadata": {
            "tags": []
          },
          "execution_count": 34
        }
      ]
    },
    {
      "cell_type": "markdown",
      "metadata": {
        "id": "nrAv-7_RprkA"
      },
      "source": [
        "English is the most common language for Movies"
      ]
    },
    {
      "cell_type": "code",
      "metadata": {
        "colab": {
          "base_uri": "https://localhost:8080/",
          "height": 281
        },
        "id": "C8a9NhBDplEG",
        "outputId": "d80edfc0-7b55-4e4a-819d-67d4197314fd"
      },
      "source": [
        "language_count[:10].plot(kind='barh')"
      ],
      "execution_count": 35,
      "outputs": [
        {
          "output_type": "execute_result",
          "data": {
            "text/plain": [
              "<matplotlib.axes._subplots.AxesSubplot at 0x7f61ce36df90>"
            ]
          },
          "metadata": {
            "tags": []
          },
          "execution_count": 35
        },
        {
          "output_type": "display_data",
          "data": {
            "image/png": "[encoded data removed]",
            "text/plain": [
              "<Figure size 432x288 with 1 Axes>"
            ]
          },
          "metadata": {
            "tags": [],
            "needs_background": "light"
          }
        }
      ]
    },
    {
      "cell_type": "code",
      "metadata": {
        "colab": {
          "base_uri": "https://localhost:8080/"
        },
        "id": "_EHoKvdEqGSC",
        "outputId": "eb1e83d5-263c-45b0-a5c8-5512e33573a2"
      },
      "source": [
        "type(df.date_published)"
      ],
      "execution_count": 36,
      "outputs": [
        {
          "output_type": "execute_result",
          "data": {
            "text/plain": [
              "pandas.core.series.Series"
            ]
          },
          "metadata": {
            "tags": []
          },
          "execution_count": 36
        }
      ]
    },
    {
      "cell_type": "markdown",
      "metadata": {
        "id": "zDRn0fY0AoBz"
      },
      "source": [
        "Some dates were writen as 'TV Movie 2019' so I needed to be corrected"
      ]
    },
    {
      "cell_type": "code",
      "metadata": {
        "id": "pRGvcNhaAYQG"
      },
      "source": [
        "df['date_published'] = df['date_published'].str.replace('TV Movie 2019', '2019-01-01')"
      ],
      "execution_count": 37,
      "outputs": []
    },
    {
      "cell_type": "code",
      "metadata": {
        "id": "DC_AxJ9KAi30"
      },
      "source": [
        "df.date_published = pd.to_datetime(df.date_published)"
      ],
      "execution_count": 38,
      "outputs": []
    },
    {
      "cell_type": "code",
      "metadata": {
        "colab": {
          "base_uri": "https://localhost:8080/"
        },
        "id": "sLDidi9QAlcY",
        "outputId": "b3b00543-3173-4443-fe99-81c865aee92d"
      },
      "source": [
        "df.date_published[0] "
      ],
      "execution_count": 39,
      "outputs": [
        {
          "output_type": "execute_result",
          "data": {
            "text/plain": [
              "Timestamp('1894-10-09 00:00:00')"
            ]
          },
          "metadata": {
            "tags": []
          },
          "execution_count": 39
        }
      ]
    },
    {
      "cell_type": "markdown",
      "metadata": {
        "id": "qSF_DPkABPcj"
      },
      "source": [
        "Movies released at which time of the year making the most money?\n",
        "\n",
        "Movies released at which time of the year are top rated?"
      ]
    },
    {
      "cell_type": "code",
      "metadata": {
        "colab": {
          "base_uri": "https://localhost:8080/"
        },
        "id": "5DQZBRBoBJ7B",
        "outputId": "6d8ad698-47e9-4ccb-a0af-b27ba33ca894"
      },
      "source": [
        "df.info()"
      ],
      "execution_count": 40,
      "outputs": [
        {
          "output_type": "stream",
          "text": [
            "<class 'pandas.core.frame.DataFrame'>\n",
            "RangeIndex: 85855 entries, 0 to 85854\n",
            "Data columns (total 22 columns):\n",
            " #   Column                 Non-Null Count  Dtype         \n",
            "---  ------                 --------------  -----         \n",
            " 0   imdb_title_id          85855 non-null  object        \n",
            " 1   title                  85855 non-null  object        \n",
            " 2   original_title         85855 non-null  object        \n",
            " 3   year                   85855 non-null  object        \n",
            " 4   date_published         85855 non-null  datetime64[ns]\n",
            " 5   genre                  85855 non-null  object        \n",
            " 6   duration               85855 non-null  int64         \n",
            " 7   country                85791 non-null  object        \n",
            " 8   language               85022 non-null  object        \n",
            " 9   director               85768 non-null  object        \n",
            " 10  writer                 84283 non-null  object        \n",
            " 11  production_company     81400 non-null  object        \n",
            " 12  actors                 85786 non-null  object        \n",
            " 13  description            83740 non-null  object        \n",
            " 14  avg_vote               85855 non-null  float64       \n",
            " 15  votes                  85855 non-null  int64         \n",
            " 16  budget                 23710 non-null  object        \n",
            " 17  usa_gross_income       15326 non-null  object        \n",
            " 18  worlwide_gross_income  31016 non-null  object        \n",
            " 19  metascore              13305 non-null  float64       \n",
            " 20  reviews_from_users     78258 non-null  float64       \n",
            " 21  reviews_from_critics   74058 non-null  float64       \n",
            "dtypes: datetime64[ns](1), float64(4), int64(2), object(15)\n",
            "memory usage: 14.4+ MB\n"
          ],
          "name": "stdout"
        }
      ]
    },
    {
      "cell_type": "markdown",
      "metadata": {
        "id": "P1TVeTnUI3rH"
      },
      "source": [
        "Trend of movies release year on year"
      ]
    },
    {
      "cell_type": "code",
      "metadata": {
        "colab": {
          "base_uri": "https://localhost:8080/",
          "height": 297
        },
        "id": "LpJW43p0GAR_",
        "outputId": "c7c70f8c-0067-4127-b717-5ccd5c640639"
      },
      "source": [
        "sns.histplot(df.date_published.dt.year)"
      ],
      "execution_count": 41,
      "outputs": [
        {
          "output_type": "execute_result",
          "data": {
            "text/plain": [
              "<matplotlib.axes._subplots.AxesSubplot at 0x7f61ce31b110>"
            ]
          },
          "metadata": {
            "tags": []
          },
          "execution_count": 41
        },
        {
          "output_type": "display_data",
          "data": {
            "image/png": "[encoded data removed]",
            "text/plain": [
              "<Figure size 432x288 with 1 Axes>"
            ]
          },
          "metadata": {
            "tags": [],
            "needs_background": "light"
          }
        }
      ]
    },
    {
      "cell_type": "markdown",
      "metadata": {
        "id": "t9l_KgWv6njw"
      },
      "source": [
        "Why movies released per year are alternating ?"
      ]
    },
    {
      "cell_type": "code",
      "metadata": {
        "colab": {
          "base_uri": "https://localhost:8080/",
          "height": 297
        },
        "id": "SBfwCzPftvbM",
        "outputId": "53f7464f-a89b-4d94-d3f8-996ca93ade6e"
      },
      "source": [
        "sns.histplot(df.date_published.dt.dayofweek, bins=7)"
      ],
      "execution_count": 42,
      "outputs": [
        {
          "output_type": "execute_result",
          "data": {
            "text/plain": [
              "<matplotlib.axes._subplots.AxesSubplot at 0x7f61cdfe5710>"
            ]
          },
          "metadata": {
            "tags": []
          },
          "execution_count": 42
        },
        {
          "output_type": "display_data",
          "data": {
            "image/png": "[encoded data removed]",
            "text/plain": [
              "<Figure size 432x288 with 1 Axes>"
            ]
          },
          "metadata": {
            "tags": [],
            "needs_background": "light"
          }
        }
      ]
    },
    {
      "cell_type": "markdown",
      "metadata": {
        "id": "bCmUdveYumRx"
      },
      "source": [
        "Movies are mostly released on friday"
      ]
    },
    {
      "cell_type": "code",
      "metadata": {
        "colab": {
          "base_uri": "https://localhost:8080/",
          "height": 297
        },
        "id": "H_KJi1qDuiYa",
        "outputId": "472180a5-598c-43c3-af64-d04bc8d30953"
      },
      "source": [
        "sns.histplot(df.date_published.dt.month, bins=12)"
      ],
      "execution_count": 43,
      "outputs": [
        {
          "output_type": "execute_result",
          "data": {
            "text/plain": [
              "<matplotlib.axes._subplots.AxesSubplot at 0x7f61ce1d6cd0>"
            ]
          },
          "metadata": {
            "tags": []
          },
          "execution_count": 43
        },
        {
          "output_type": "display_data",
          "data": {
            "image/png": "[encoded data removed]",
            "text/plain": [
              "<Figure size 432x288 with 1 Axes>"
            ]
          },
          "metadata": {
            "tags": [],
            "needs_background": "light"
          }
        }
      ]
    },
    {
      "cell_type": "code",
      "metadata": {
        "colab": {
          "base_uri": "https://localhost:8080/",
          "height": 265
        },
        "id": "TSsr1UFTvhJW",
        "outputId": "b33664e2-7e38-4d79-ad8b-18cc9cfa2c12"
      },
      "source": [
        "df.production_company.value_counts()[:15].plot(kind='pie')"
      ],
      "execution_count": 44,
      "outputs": [
        {
          "output_type": "execute_result",
          "data": {
            "text/plain": [
              "<matplotlib.axes._subplots.AxesSubplot at 0x7f61ce51ec10>"
            ]
          },
          "metadata": {
            "tags": []
          },
          "execution_count": 44
        },
        {
          "output_type": "display_data",
          "data": {
            "image/png": "[encoded data removed]",
            "text/plain": [
              "<Figure size 432x288 with 1 Axes>"
            ]
          },
          "metadata": {
            "tags": []
          }
        }
      ]
    },
    {
      "cell_type": "markdown",
      "metadata": {
        "id": "4D66jyGJReew"
      },
      "source": [
        "I did some changes here \n",
        "\n"
      ]
    },
    {
      "cell_type": "code",
      "metadata": {
        "id": "NbcAykvd8Cdm"
      },
      "source": [
        ""
      ],
      "execution_count": 44,
      "outputs": []
    },
    {
      "cell_type": "code",
      "metadata": {
        "id": "kPceuqcGBaqw"
      },
      "source": [
        ""
      ],
      "execution_count": 44,
      "outputs": []
    }
  ]
}